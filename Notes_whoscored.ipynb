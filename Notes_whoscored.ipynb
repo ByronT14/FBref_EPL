{
 "cells": [
  {
   "cell_type": "code",
   "execution_count": 1,
   "metadata": {},
   "outputs": [],
   "source": [
    "from bs4 import BeautifulSoup\n",
    "import pandas as pd\n",
    "import re, os\n",
    "import sys, getopt\n",
    "import csv\n",
    "import time\n",
    "from selenium import webdriver\n",
    "from selenium.webdriver.common.by import By\n",
    "from selenium.webdriver.support.ui import WebDriverWait\n",
    "from selenium.webdriver.support import expected_conditions as EC"
   ]
  },
  {
   "cell_type": "code",
   "execution_count": 2,
   "metadata": {},
   "outputs": [],
   "source": [
    "url = \"https://www.whoscored.com/Regions/252/Tournaments/2/Seasons/6829/Stages/15151/PlayerStatistics/England-Premier-League-2017-2018\""
   ]
  },
  {
   "cell_type": "code",
   "execution_count": 22,
   "metadata": {},
   "outputs": [],
   "source": [
    "options = webdriver.ChromeOptions()\n",
    "options.add_argument('headless')\n",
    "driver = webdriver.Chrome(options=options)\n",
    "driver.get(url)\n",
    "time.sleep(10)\n",
    "#tableNames = ['summary', 'defensive', 'offensive', 'passing']\n",
    "#tableName = tableNames[0]\n",
    "#element = WebDriverWait(driver, 10).until(EC.presence_of_element_located((By.CSS_SELECTOR, \"a[href*='#team-squad-archive-stats-\" + tableName + \"']\")))\n",
    "#time.sleep(10)\n",
    "#browser.execute_script(\"arguments[0].click();\", element)\n",
    "#time.sleep(10)\n",
    "for x in xrange(1,29):\n",
    "    content = driver.page_source\n",
    "    soup = BeautifulSoup(''.join(content), 'lxml')\n",
    "tables = soup.find(\"tbody\")\n",
    "driver.quit()"
   ]
  },
  {
   "cell_type": "code",
   "execution_count": 23,
   "metadata": {},
   "outputs": [
    {
     "name": "stdout",
     "output_type": "stream",
     "text": [
      "<tbody id=\"player-table-statistics-body\"><tr class=\"\"><td style=\"vertical-align: top\">\t1</td> <td style=\"vertical-align: top\"><span class=\"ui-icon country flg-ar\"></span> </td><td class=\"pn\"><a class=\"player-link\" href=\"/Players/14260/Show/Sergio-Agüero\">Sergio Agüero </a><a class=\"player-meta-data\" href=\"/Teams/167/Show/England-Manchester-City\"><span class=\"team-name\">Manchester City, </span></a><span class=\"player-meta-data\">30</span><span class=\"player-meta-data\">,  AM(CL),FW  </span></td> <td>22(3)</td><td class=\"minsPlayed\">1969\t</td><td class=\"goal\">21\t</td><td class=\"assistTotal\">6\t</td><td class=\"yellowCard\">2\t</td><td class=\"redCard\">-\t</td><td class=\"shotsPerGame\">3.8\t</td><td class=\"passSuccess\">82.8\t</td><td class=\"aerialWonPerGame\">0.4\t</td><td class=\"manOfTheMatch\">4\t</td><td class=\"rating sorted\">7.81</td> </tr><tr class=\"alt\"><td style=\"vertical-align: top\">\t2</td> <td style=\"vertical-align: top\"><span class=\"ui-icon country flg-be\"></span> </td><td class=\"pn\"><a class=\"player-link\" href=\"/Players/73084/Show/Kevin-De-Bruyne\">Kevin De Bruyne </a><a class=\"player-meta-data\" href=\"/Teams/167/Show/England-Manchester-City\"><span class=\"team-name\">Manchester City, </span></a><span class=\"player-meta-data\">27</span><span class=\"player-meta-data\">,  AM(CLR),FW  </span></td> <td>36(1)</td><td class=\"minsPlayed\">3085\t</td><td class=\"goal\">8\t</td><td class=\"assistTotal\">16\t</td><td class=\"yellowCard\">2\t</td><td class=\"redCard\">-\t</td><td class=\"shotsPerGame\">2.5\t</td><td class=\"passSuccess\">83.4\t</td><td class=\"aerialWonPerGame\">0.4\t</td><td class=\"manOfTheMatch\">8\t</td><td class=\"rating sorted\">7.80</td> </tr><tr class=\"\"><td style=\"vertical-align: top\">\t3</td> <td style=\"vertical-align: top\"><span class=\"ui-icon country flg-eg\"></span> </td><td class=\"pn\"><a class=\"player-link\" href=\"/Players/108226/Show/Mohamed-Salah\">Mohamed Salah </a><a class=\"player-meta-data\" href=\"/Teams/26/Show/England-Liverpool\"><span class=\"team-name\">Liverpool, </span></a><span class=\"player-meta-data\">26</span><span class=\"player-meta-data\">,  AM(CLR),FW  </span></td> <td>34(2)</td><td class=\"minsPlayed\">2922\t</td><td class=\"goal\">32\t</td><td class=\"assistTotal\">10\t</td><td class=\"yellowCard\">1\t</td><td class=\"redCard\">-\t</td><td class=\"shotsPerGame\">4\t</td><td class=\"passSuccess\">76.7\t</td><td class=\"aerialWonPerGame\">0.4\t</td><td class=\"manOfTheMatch\">8\t</td><td class=\"rating sorted\">7.69</td> </tr><tr class=\"alt\"><td style=\"vertical-align: top\">\t4</td> <td style=\"vertical-align: top\"><span class=\"ui-icon country flg-be\"></span> </td><td class=\"pn\"><a class=\"player-link\" href=\"/Players/33404/Show/Eden-Hazard\">Eden Hazard </a><a class=\"player-meta-data\" href=\"/Teams/15/Show/England-Chelsea\"><span class=\"team-name\">Chelsea, </span></a><span class=\"player-meta-data\">28</span><span class=\"player-meta-data\">,  M(CLR),FW  </span></td> <td>28(6)</td><td class=\"minsPlayed\">2433\t</td><td class=\"goal\">12\t</td><td class=\"assistTotal\">4\t</td><td class=\"yellowCard\">2\t</td><td class=\"redCard\">-\t</td><td class=\"shotsPerGame\">2.1\t</td><td class=\"passSuccess\">83.6\t</td><td class=\"aerialWonPerGame\">0.2\t</td><td class=\"manOfTheMatch\">9\t</td><td class=\"rating sorted\">7.69</td> </tr><tr class=\"\"><td style=\"vertical-align: top\">\t5</td> <td style=\"vertical-align: top\"><span class=\"ui-icon country flg-gb-eng\"></span> </td><td class=\"pn\"><a class=\"player-link\" href=\"/Players/83532/Show/Harry-Kane\">Harry Kane </a><a class=\"player-meta-data\" href=\"/Teams/30/Show/England-Tottenham\"><span class=\"team-name\">Tottenham, </span></a><span class=\"player-meta-data\">25</span><span class=\"player-meta-data\">,  AM(C),FW  </span></td> <td>35(2)</td><td class=\"minsPlayed\">3083\t</td><td class=\"goal\">30\t</td><td class=\"assistTotal\">2\t</td><td class=\"yellowCard\">5\t</td><td class=\"redCard\">-\t</td><td class=\"shotsPerGame\">5\t</td><td class=\"passSuccess\">71.2\t</td><td class=\"aerialWonPerGame\">1.6\t</td><td class=\"manOfTheMatch\">9\t</td><td class=\"rating sorted\">7.60</td> </tr><tr class=\"alt\"><td style=\"vertical-align: top\">\t6</td> <td style=\"vertical-align: top\"><span class=\"ui-icon country flg-es\"></span> </td><td class=\"pn\"><a class=\"player-link\" href=\"/Players/14102/Show/David-Silva\">David Silva </a><a class=\"player-meta-data\" href=\"/Teams/167/Show/England-Manchester-City\"><span class=\"team-name\">Manchester City, </span></a><span class=\"player-meta-data\">33</span><span class=\"player-meta-data\">,  M(CLR)  </span></td> <td>28(1)</td><td class=\"minsPlayed\">2437\t</td><td class=\"goal\">9\t</td><td class=\"assistTotal\">11\t</td><td class=\"yellowCard\">5\t</td><td class=\"redCard\">-\t</td><td class=\"shotsPerGame\">1.9\t</td><td class=\"passSuccess\">88.9\t</td><td class=\"aerialWonPerGame\">0.6\t</td><td class=\"manOfTheMatch\">4\t</td><td class=\"rating sorted\">7.58</td> </tr><tr class=\"\"><td style=\"vertical-align: top\">\t7</td> <td style=\"vertical-align: top\"><span class=\"ui-icon country flg-gb-eng\"></span> </td><td class=\"pn\"><a class=\"player-link\" href=\"/Players/97692/Show/Raheem-Sterling\">Raheem Sterling </a><a class=\"player-meta-data\" href=\"/Teams/167/Show/England-Manchester-City\"><span class=\"team-name\">Manchester City, </span></a><span class=\"player-meta-data\">24</span><span class=\"player-meta-data\">,  M(CLR),FW  </span></td> <td>29(4)</td><td class=\"minsPlayed\">2593\t</td><td class=\"goal\">18\t</td><td class=\"assistTotal\">11\t</td><td class=\"yellowCard\">3\t</td><td class=\"redCard\">1\t</td><td class=\"shotsPerGame\">2.6\t</td><td class=\"passSuccess\">84\t</td><td class=\"aerialWonPerGame\">0.2\t</td><td class=\"manOfTheMatch\">4\t</td><td class=\"rating sorted\">7.55</td> </tr><tr class=\"alt\"><td style=\"vertical-align: top\">\t8</td> <td style=\"vertical-align: top\"><span class=\"ui-icon country flg-de\"></span> </td><td class=\"pn\"><a class=\"player-link\" href=\"/Players/144711/Show/Leroy-Sané\">Leroy Sané </a><a class=\"player-meta-data\" href=\"/Teams/167/Show/England-Manchester-City\"><span class=\"team-name\">Manchester City, </span></a><span class=\"player-meta-data\">23</span><span class=\"player-meta-data\">,  M(CLR)  </span></td> <td>27(5)</td><td class=\"minsPlayed\">2423\t</td><td class=\"goal\">10\t</td><td class=\"assistTotal\">15\t</td><td class=\"yellowCard\">4\t</td><td class=\"redCard\">-\t</td><td class=\"shotsPerGame\">1.8\t</td><td class=\"passSuccess\">84.2\t</td><td class=\"aerialWonPerGame\">0.5\t</td><td class=\"manOfTheMatch\">3\t</td><td class=\"rating sorted\">7.54</td> </tr><tr class=\"\"><td style=\"vertical-align: top\">\t9</td> <td style=\"vertical-align: top\"><span class=\"ui-icon country flg-fr\"></span> </td><td class=\"pn\"><a class=\"player-link\" href=\"/Players/97752/Show/Paul-Pogba\">Paul Pogba </a><a class=\"player-meta-data\" href=\"/Teams/32/Show/England-Manchester-United\"><span class=\"team-name\">Manchester United, </span></a><span class=\"player-meta-data\">25</span><span class=\"player-meta-data\">,  M(C)  </span></td> <td>25(2)</td><td class=\"minsPlayed\">2151\t</td><td class=\"goal\">6\t</td><td class=\"assistTotal\">10\t</td><td class=\"yellowCard\">5\t</td><td class=\"redCard\">1\t</td><td class=\"shotsPerGame\">2.8\t</td><td class=\"passSuccess\">85.3\t</td><td class=\"aerialWonPerGame\">1.9\t</td><td class=\"manOfTheMatch\">4\t</td><td class=\"rating sorted\">7.48</td> </tr><tr class=\"alt\"><td style=\"vertical-align: top\">\t10</td> <td style=\"vertical-align: top\"><span class=\"ui-icon country flg-br\"></span> </td><td class=\"pn\"><a class=\"player-link\" href=\"/Players/19119/Show/Fernandinho\">Fernandinho </a><a class=\"player-meta-data\" href=\"/Teams/167/Show/England-Manchester-City\"><span class=\"team-name\">Manchester City, </span></a><span class=\"player-meta-data\">33</span><span class=\"player-meta-data\">,  D(R),DMC  </span></td> <td>33(1)</td><td class=\"minsPlayed\">2885\t</td><td class=\"goal\">5\t</td><td class=\"assistTotal\">3\t</td><td class=\"yellowCard\">7\t</td><td class=\"redCard\">-\t</td><td class=\"shotsPerGame\">1.4\t</td><td class=\"passSuccess\">90.1\t</td><td class=\"aerialWonPerGame\">2.8\t</td><td class=\"manOfTheMatch\">1\t</td><td class=\"rating sorted\">7.44</td> </tr></tbody>\n"
     ]
    }
   ],
   "source": [
    "print(tables)"
   ]
  },
  {
   "cell_type": "code",
   "execution_count": null,
   "metadata": {},
   "outputs": [],
   "source": [
    "# The different tables\n",
    "tableNames = ['summary', 'defensive', 'offensive', 'passing']\n",
    "# Load all tables in list\n",
    "datas = []\n",
    "\n",
    "# Get all tables\n",
    "while len(datas) != 4:\n",
    "    for tableName in tableNames:\n",
    "        try:\n",
    "            element = WebDriverWait(browser, 10).until(EC.presence_of_element_located((By.CSS_SELECTOR, \"a[href*='#team-squad-archive-stats-\" + tableName + \"']\")))\n",
    "            time.sleep(10)\n",
    "            browser.execute_script(\"arguments[0].click();\", element)\n",
    "            time.sleep(10)\n",
    "        except:\n",
    "            print(\"Problems with loading webpage in browser.\")\n",
    "            time.sleep(60)\n",
    "            print('Sleeping for one minute. They I will try again')\n",
    "\n",
    "        # Get content\n",
    "        content = browser.page_source\n",
    "        soup = BeautifulSoup(''.join(content), 'lxml')\n",
    "\n",
    "        table = soup.find(\"div\", {\"id\": \"statistics-table-\" + tableName }).find(\"tbody\", {\"id\": \"player-table-statistics-body\"})\n",
    "\n",
    "        #Save data\n",
    "        datas.append(table)\n",
    "\n",
    "        print('Data has length ' + str(len(datas)) + \" at the moment.\")"
   ]
  },
  {
   "cell_type": "code",
   "execution_count": null,
   "metadata": {},
   "outputs": [],
   "source": []
  },
  {
   "cell_type": "code",
   "execution_count": 7,
   "metadata": {},
   "outputs": [
    {
     "name": "stdout",
     "output_type": "stream",
     "text": [
      "Problems with loading webpage in browser.\n"
     ]
    },
    {
     "ename": "KeyboardInterrupt",
     "evalue": "",
     "output_type": "error",
     "traceback": [
      "\u001b[0;31m---------------------------------------------------------------------------\u001b[0m",
      "\u001b[0;31mNameError\u001b[0m                                 Traceback (most recent call last)",
      "\u001b[0;32m<ipython-input-7-824145928f0e>\u001b[0m in \u001b[0;36m<module>\u001b[0;34m\u001b[0m\n\u001b[1;32m     14\u001b[0m         \u001b[0;32mtry\u001b[0m\u001b[0;34m:\u001b[0m\u001b[0;34m\u001b[0m\u001b[0;34m\u001b[0m\u001b[0m\n\u001b[0;32m---> 15\u001b[0;31m             \u001b[0melement\u001b[0m \u001b[0;34m=\u001b[0m \u001b[0mWebDriverWait\u001b[0m\u001b[0;34m(\u001b[0m\u001b[0mbrowser\u001b[0m\u001b[0;34m,\u001b[0m \u001b[0;36m10\u001b[0m\u001b[0;34m)\u001b[0m\u001b[0;34m.\u001b[0m\u001b[0muntil\u001b[0m\u001b[0;34m(\u001b[0m\u001b[0mEC\u001b[0m\u001b[0;34m.\u001b[0m\u001b[0mpresence_of_element_located\u001b[0m\u001b[0;34m(\u001b[0m\u001b[0;34m(\u001b[0m\u001b[0mBy\u001b[0m\u001b[0;34m.\u001b[0m\u001b[0mCSS_SELECTOR\u001b[0m\u001b[0;34m,\u001b[0m \u001b[0;34m\"a[href*='#team-squad-archive-stats-\"\u001b[0m \u001b[0;34m+\u001b[0m \u001b[0mtableName\u001b[0m \u001b[0;34m+\u001b[0m \u001b[0;34m\"']\"\u001b[0m\u001b[0;34m)\u001b[0m\u001b[0;34m)\u001b[0m\u001b[0;34m)\u001b[0m\u001b[0;34m\u001b[0m\u001b[0;34m\u001b[0m\u001b[0m\n\u001b[0m\u001b[1;32m     16\u001b[0m             \u001b[0mtime\u001b[0m\u001b[0;34m.\u001b[0m\u001b[0msleep\u001b[0m\u001b[0;34m(\u001b[0m\u001b[0;36m10\u001b[0m\u001b[0;34m)\u001b[0m\u001b[0;34m\u001b[0m\u001b[0;34m\u001b[0m\u001b[0m\n",
      "\u001b[0;31mNameError\u001b[0m: name 'browser' is not defined",
      "\nDuring handling of the above exception, another exception occurred:\n",
      "\u001b[0;31mKeyboardInterrupt\u001b[0m                         Traceback (most recent call last)",
      "\u001b[0;32m<ipython-input-7-824145928f0e>\u001b[0m in \u001b[0;36m<module>\u001b[0;34m\u001b[0m\n\u001b[1;32m     19\u001b[0m         \u001b[0;32mexcept\u001b[0m\u001b[0;34m:\u001b[0m\u001b[0;34m\u001b[0m\u001b[0;34m\u001b[0m\u001b[0m\n\u001b[1;32m     20\u001b[0m             \u001b[0mprint\u001b[0m\u001b[0;34m(\u001b[0m\u001b[0;34m\"Problems with loading webpage in browser.\"\u001b[0m\u001b[0;34m)\u001b[0m\u001b[0;34m\u001b[0m\u001b[0;34m\u001b[0m\u001b[0m\n\u001b[0;32m---> 21\u001b[0;31m             \u001b[0mtime\u001b[0m\u001b[0;34m.\u001b[0m\u001b[0msleep\u001b[0m\u001b[0;34m(\u001b[0m\u001b[0;36m60\u001b[0m\u001b[0;34m)\u001b[0m\u001b[0;34m\u001b[0m\u001b[0;34m\u001b[0m\u001b[0m\n\u001b[0m\u001b[1;32m     22\u001b[0m             \u001b[0mprint\u001b[0m\u001b[0;34m(\u001b[0m\u001b[0;34m'Sleeping for one minute. They I will try again'\u001b[0m\u001b[0;34m)\u001b[0m\u001b[0;34m\u001b[0m\u001b[0;34m\u001b[0m\u001b[0m\n\u001b[1;32m     23\u001b[0m \u001b[0;34m\u001b[0m\u001b[0m\n",
      "\u001b[0;31mKeyboardInterrupt\u001b[0m: "
     ]
    }
   ],
   "source": [
    "datas[0].head()\n",
    "datas[1].head()\n",
    "datas[2].head()\n",
    "datas[3].head()"
   ]
  },
  {
   "cell_type": "code",
   "execution_count": 6,
   "metadata": {},
   "outputs": [
    {
     "ename": "AttributeError",
     "evalue": "'Options' object has no attribute 'args'",
     "output_type": "error",
     "traceback": [
      "\u001b[0;31m---------------------------------------------------------------------------\u001b[0m",
      "\u001b[0;31mAttributeError\u001b[0m                            Traceback (most recent call last)",
      "\u001b[0;32m<ipython-input-6-71729fd316fa>\u001b[0m in \u001b[0;36m<module>\u001b[0;34m\u001b[0m\n\u001b[0;32m----> 1\u001b[0;31m \u001b[0mprint\u001b[0m\u001b[0;34m(\u001b[0m\u001b[0moptions\u001b[0m\u001b[0;34m.\u001b[0m\u001b[0margs\u001b[0m\u001b[0;34m)\u001b[0m\u001b[0;34m\u001b[0m\u001b[0;34m\u001b[0m\u001b[0m\n\u001b[0m",
      "\u001b[0;31mAttributeError\u001b[0m: 'Options' object has no attribute 'args'"
     ]
    }
   ],
   "source": []
  },
  {
   "cell_type": "code",
   "execution_count": null,
   "metadata": {},
   "outputs": [],
   "source": []
  }
 ],
 "metadata": {
  "kernelspec": {
   "display_name": "Python 3",
   "language": "python",
   "name": "python3"
  },
  "language_info": {
   "codemirror_mode": {
    "name": "ipython",
    "version": 3
   },
   "file_extension": ".py",
   "mimetype": "text/x-python",
   "name": "python",
   "nbconvert_exporter": "python",
   "pygments_lexer": "ipython3",
   "version": "3.7.2"
  }
 },
 "nbformat": 4,
 "nbformat_minor": 2
}
